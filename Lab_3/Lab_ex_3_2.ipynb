{
  "nbformat": 4,
  "nbformat_minor": 0,
  "metadata": {
    "kernelspec": {
      "display_name": "Python 3",
      "language": "python",
      "name": "python3"
    },
    "language_info": {
      "codemirror_mode": {
        "name": "ipython",
        "version": 3
      },
      "file_extension": ".py",
      "mimetype": "text/x-python",
      "name": "python",
      "nbconvert_exporter": "python",
      "pygments_lexer": "ipython3",
      "version": "3.7.6"
    },
    "colab": {
      "name": "Lab_ex_3_2.ipynb",
      "provenance": []
    }
  },
  "cells": [
    {
      "cell_type": "markdown",
      "metadata": {
        "id": "JGSIisNzRk5e"
      },
      "source": [
        "# Ex. 3.2 HBASE\n",
        "We use the *HappyBase* lib: https://happybase.readthedocs.io/en/latest/installation.html"
      ]
    },
    {
      "cell_type": "code",
      "metadata": {
        "id": "nSMIp5b5Rk5i"
      },
      "source": [
        "!pip install -q condacolab"
      ],
      "execution_count": 1,
      "outputs": []
    },
    {
      "cell_type": "code",
      "metadata": {
        "id": "w3-b2iWPSRfJ",
        "outputId": "7bb6a3d2-53bb-4b10-f572-cbcd0f332f69",
        "colab": {
          "base_uri": "https://localhost:8080/"
        }
      },
      "source": [
        "import condacolab \n",
        "condacolab.install()\n",
        "!conda install -y pyhive\n",
        "!conda install -c conda-forge -y happybase"
      ],
      "execution_count": 2,
      "outputs": [
        {
          "output_type": "stream",
          "text": [
            "✨🍰✨ Everything looks OK!\n",
            "Collecting package metadata (current_repodata.json): - \b\b\\ \b\b| \b\b/ \b\b- \b\b\\ \b\b| \b\b/ \b\b- \b\b\\ \b\b| \b\b/ \b\b- \b\bdone\n",
            "Solving environment: | \b\b/ \b\b- \b\b\\ \b\b| \b\b/ \b\b- \b\b\\ \b\b| \b\b/ \b\b- \b\b\\ \b\b| \b\b/ \b\b- \b\bdone\n",
            "\n",
            "# All requested packages already installed.\n",
            "\n",
            "Collecting package metadata (current_repodata.json): - \b\b\\ \b\b| \b\b/ \b\b- \b\b\\ \b\b| \b\b/ \b\b- \b\b\\ \b\b| \b\b/ \b\b- \b\b\\ \b\b| \b\b/ \b\b- \b\bdone\n",
            "Solving environment: | \b\b/ \b\b- \b\b\\ \b\b| \b\b/ \b\b- \b\b\\ \b\b| \b\b/ \b\b- \b\b\\ \b\b| \b\b/ \b\b- \b\bdone\n",
            "\n",
            "# All requested packages already installed.\n",
            "\n"
          ],
          "name": "stdout"
        }
      ]
    },
    {
      "cell_type": "code",
      "metadata": {
        "id": "PikOuHmqRk5j"
      },
      "source": [
        "# imports\n",
        "import happybase"
      ],
      "execution_count": 3,
      "outputs": []
    },
    {
      "cell_type": "code",
      "metadata": {
        "id": "wp1lcBzHRk5k"
      },
      "source": [
        "# try to connect\n",
        "server=\"ec2-34-254-248-152.eu-west-1.compute.amazonaws.com\" #need to change this for every lab-session\n",
        "connection = happybase.Connection(server)"
      ],
      "execution_count": 4,
      "outputs": []
    },
    {
      "cell_type": "code",
      "metadata": {
        "id": "qWrhYwRTRk5l"
      },
      "source": [
        "families = {\n",
        "    'cf1': dict(max_versions=10),\n",
        "    'cf2': dict(max_versions=1, block_cache_enabled=False),\n",
        "    'cf3': dict(),  # use defaults\n",
        "}"
      ],
      "execution_count": 5,
      "outputs": []
    },
    {
      "cell_type": "code",
      "metadata": {
        "id": "GotJLwI0Rk5l"
      },
      "source": [
        "#connection.create_table('lab3', families)  # table allredy exists"
      ],
      "execution_count": 6,
      "outputs": []
    },
    {
      "cell_type": "code",
      "metadata": {
        "scrolled": true,
        "id": "DISlDQq4Rk5m",
        "outputId": "b137b149-49ce-478f-9c69-4a730ad5af68",
        "colab": {
          "base_uri": "https://localhost:8080/"
        }
      },
      "source": [
        "print(connection.tables())"
      ],
      "execution_count": 7,
      "outputs": [
        {
          "output_type": "stream",
          "text": [
            "[b'1234_user_id_employees', b'49a5b1a_employees', b'dh_user_id_employees', b'employee_Group2', b'employee_Group_2', b'employee_group_five', b'employees_smunaret', b'group1_employee', b'group3_user_id_employees', b'lab3', b'mspitzna_employees', b'tm_user_id_employees', b'user_id_employees']\n"
          ],
          "name": "stdout"
        }
      ]
    },
    {
      "cell_type": "code",
      "metadata": {
        "id": "KOadj8aTRk5m"
      },
      "source": [
        "#connect to a table\n",
        "table = connection.table('lab3')"
      ],
      "execution_count": 8,
      "outputs": []
    },
    {
      "cell_type": "code",
      "metadata": {
        "id": "QY-1prtnRk5o",
        "outputId": "1fdd43f6-c173-43da-94df-396c9f8c6135",
        "colab": {
          "base_uri": "https://localhost:8080/"
        }
      },
      "source": [
        "#see column families\n",
        "table.families()"
      ],
      "execution_count": 9,
      "outputs": [
        {
          "output_type": "execute_result",
          "data": {
            "text/plain": [
              "{b'cf1': {'block_cache_enabled': False,\n",
              "  'bloom_filter_nb_hashes': 0,\n",
              "  'bloom_filter_type': b'NONE',\n",
              "  'bloom_filter_vector_size': 0,\n",
              "  'compression': b'NONE',\n",
              "  'in_memory': False,\n",
              "  'max_versions': 10,\n",
              "  'name': b'cf1:',\n",
              "  'time_to_live': 2147483647},\n",
              " b'cf2': {'block_cache_enabled': False,\n",
              "  'bloom_filter_nb_hashes': 0,\n",
              "  'bloom_filter_type': b'NONE',\n",
              "  'bloom_filter_vector_size': 0,\n",
              "  'compression': b'NONE',\n",
              "  'in_memory': False,\n",
              "  'max_versions': 1,\n",
              "  'name': b'cf2:',\n",
              "  'time_to_live': 2147483647},\n",
              " b'cf3': {'block_cache_enabled': False,\n",
              "  'bloom_filter_nb_hashes': 0,\n",
              "  'bloom_filter_type': b'NONE',\n",
              "  'bloom_filter_vector_size': 0,\n",
              "  'compression': b'NONE',\n",
              "  'in_memory': False,\n",
              "  'max_versions': 3,\n",
              "  'name': b'cf3:',\n",
              "  'time_to_live': 2147483647}}"
            ]
          },
          "metadata": {
            "tags": []
          },
          "execution_count": 9
        }
      ]
    },
    {
      "cell_type": "code",
      "metadata": {
        "id": "zlFLTxZ6Rk5p"
      },
      "source": [
        "#insert something\n",
        "table.put('row 6', {'cf1:col7': '17.33', 'cf1:col8': '344'})\n"
      ],
      "execution_count": 10,
      "outputs": []
    },
    {
      "cell_type": "code",
      "metadata": {
        "id": "TlY0YmPORk5q"
      },
      "source": [
        "#read table\n",
        "res=table.scan()"
      ],
      "execution_count": 11,
      "outputs": []
    },
    {
      "cell_type": "code",
      "metadata": {
        "id": "nVb50SEVRk5r",
        "outputId": "026d219d-f0dd-42de-eb32-b601fc7e2da1",
        "colab": {
          "base_uri": "https://localhost:8080/"
        }
      },
      "source": [
        "for key,row in res:\n",
        "    print(key,row)"
      ],
      "execution_count": 12,
      "outputs": [
        {
          "output_type": "stream",
          "text": [
            "b'10001' {b'cf1:col1': b\"'1953-09-02'\", b'cf1:col2': b\"'Georgi'\", b'cf1:col3': b\"'Facello'\", b'cf1:col4': b\"'M'\", b'cf2:col5': b\"'1986-06-26'\"}\n",
            "b'10002' {b'cf1:col1': b\"'1964-06-02'\", b'cf1:col2': b\"'Bezalel'\", b'cf1:col3': b\"'Simmel'\", b'cf1:col4': b\"'F'\", b'cf2:col5': b\"'1985-11-21'\"}\n",
            "b'10003' {b'cf1:col1': b\"'1959-12-03'\", b'cf1:col2': b\"'Parto'\", b'cf1:col3': b\"'Bamford'\", b'cf1:col4': b\"'M'\", b'cf2:col5': b\"'1986-08-28'\"}\n",
            "b'10004' {b'cf1:col1': b\"'1954-05-01'\", b'cf1:col2': b\"'Chirstian'\", b'cf1:col3': b\"'Koblick'\", b'cf1:col4': b\"'M'\", b'cf2:col5': b\"'1986-12-01'\"}\n",
            "b'10005' {b'cf1:col1': b\"'1955-01-21'\", b'cf1:col2': b\"'Kyoichi'\", b'cf1:col3': b\"'Maliniak'\", b'cf1:col4': b\"'M'\", b'cf2:col5': b\"'1989-09-12'\"}\n",
            "b'10006' {b'cf1:col1': b\"'1953-04-20'\", b'cf1:col2': b\"'Anneke'\", b'cf1:col3': b\"'Preusig'\", b'cf1:col4': b\"'F'\", b'cf2:col5': b\"'1989-06-02'\"}\n",
            "b'10007' {b'cf1:col1': b\"'1957-05-23'\", b'cf1:col2': b\"'Tzvetan'\", b'cf1:col3': b\"'Zielinski'\", b'cf1:col4': b\"'F'\", b'cf2:col5': b\"'1989-02-10'\"}\n",
            "b'10008' {b'cf1:col1': b\"'1958-02-19'\", b'cf1:col2': b\"'Saniya'\", b'cf1:col3': b\"'Kalloufi'\", b'cf1:col4': b\"'M'\", b'cf2:col5': b\"'1994-09-15'\"}\n",
            "b'10009' {b'cf1:col1': b\"'1952-04-19'\", b'cf1:col2': b\"'Sumant'\", b'cf1:col3': b\"'Peac'\", b'cf1:col4': b\"'F'\", b'cf2:col5': b\"'1985-02-18'\"}\n",
            "b'10010' {b'cf1:col1': b\"'1963-06-01'\", b'cf1:col2': b\"'Duangkaew'\", b'cf1:col3': b\"'Piveteau'\", b'cf1:col4': b\"'F'\", b'cf2:col5': b\"'1989-08-24'\"}\n",
            "b'10011' {b'cf1:col1': b\"'1953-11-07'\", b'cf1:col2': b\"'Mary'\", b'cf1:col3': b\"'Sluis'\", b'cf1:col4': b\"'F'\", b'cf2:col5': b\"'1990-01-22'\"}\n",
            "b'10012' {b'cf1:col1': b\"'1960-10-04'\", b'cf1:col2': b\"'Patricio'\", b'cf1:col3': b\"'Bridgland'\", b'cf1:col4': b\"'M'\", b'cf2:col5': b\"'1992-12-18'\"}\n",
            "b'10013' {b'cf1:col1': b\"'1963-06-07'\", b'cf1:col2': b\"'Eberhardt'\", b'cf1:col3': b\"'Terkki'\", b'cf1:col4': b\"'M'\", b'cf2:col5': b\"'1985-10-20'\"}\n",
            "b'10014' {b'cf1:col1': b\"'1956-02-12'\", b'cf1:col2': b\"'Berni'\", b'cf1:col3': b\"'Genin'\", b'cf1:col4': b\"'M'\", b'cf2:col5': b\"'1987-03-11'\"}\n",
            "b'10015' {b'cf1:col1': b\"'1959-08-19'\", b'cf1:col2': b\"'Guoxiang'\", b'cf1:col3': b\"'Nooteboom'\", b'cf1:col4': b\"'M'\", b'cf2:col5': b\"'1987-07-02'\"}\n",
            "b'10016' {b'cf1:col1': b\"'1961-05-02'\", b'cf1:col2': b\"'Kazuhito'\", b'cf1:col3': b\"'Cappelletti'\", b'cf1:col4': b\"'M'\", b'cf2:col5': b\"'1995-01-27'\"}\n",
            "b'10017' {b'cf1:col1': b\"'1958-07-06'\", b'cf1:col2': b\"'Cristinel'\", b'cf1:col3': b\"'Bouloucos'\", b'cf1:col4': b\"'F'\", b'cf2:col5': b\"'1993-08-03'\"}\n",
            "b'10018' {b'cf1:col1': b\"'1954-06-19'\", b'cf1:col2': b\"'Kazuhide'\", b'cf1:col3': b\"'Peha'\", b'cf1:col4': b\"'F'\", b'cf2:col5': b\"'1987-04-03'\"}\n",
            "b'10019' {b'cf1:col1': b\"'1953-01-23'\", b'cf1:col2': b\"'Lillian'\", b'cf1:col3': b\"'Haddadi'\", b'cf1:col4': b\"'M'\", b'cf2:col5': b\"'1999-04-30'\"}\n",
            "b'10020' {b'cf1:col1': b\"'1952-12-24'\", b'cf1:col2': b\"'Mayuko'\", b'cf1:col3': b\"'Warwick'\", b'cf1:col4': b\"'M'\", b'cf2:col5': b\"'1991-01-26'\"}\n",
            "b'10021' {b'cf1:col1': b\"'1960-02-20'\", b'cf1:col2': b\"'Ramzi'\", b'cf1:col3': b\"'Erde'\", b'cf1:col4': b\"'M'\", b'cf2:col5': b\"'1988-02-10'\"}\n",
            "b'10022' {b'cf1:col1': b\"'1952-07-08'\", b'cf1:col2': b\"'Shahaf'\", b'cf1:col3': b\"'Famili'\", b'cf1:col4': b\"'M'\", b'cf2:col5': b\"'1995-08-22'\"}\n",
            "b'10023' {b'cf1:col1': b\"'1953-09-29'\", b'cf1:col2': b\"'Bojan'\", b'cf1:col3': b\"'Montemayor'\", b'cf1:col4': b\"'F'\", b'cf2:col5': b\"'1989-12-17'\"}\n",
            "b'10024' {b'cf1:col1': b\"'1958-09-05'\", b'cf1:col2': b\"'Suzette'\", b'cf1:col3': b\"'Pettey'\", b'cf1:col4': b\"'F'\", b'cf2:col5': b\"'1997-05-19'\"}\n",
            "b'10025' {b'cf1:col1': b\"'1958-10-31'\", b'cf1:col2': b\"'Prasadram'\", b'cf1:col3': b\"'Heyers'\", b'cf1:col4': b\"'M'\", b'cf2:col5': b\"'1987-08-17'\"}\n",
            "b'10026' {b'cf1:col1': b\"'1953-04-03'\", b'cf1:col2': b\"'Yongqiao'\", b'cf1:col3': b\"'Berztiss'\", b'cf1:col4': b\"'M'\", b'cf2:col5': b\"'1995-03-20'\"}\n",
            "b'10027' {b'cf1:col1': b\"'1962-07-10'\", b'cf1:col2': b\"'Divier'\", b'cf1:col3': b\"'Reistad'\", b'cf1:col4': b\"'F'\", b'cf2:col5': b\"'1989-07-07'\"}\n",
            "b'10028' {b'cf1:col1': b\"'1963-11-26'\", b'cf1:col2': b\"'Domenick'\", b'cf1:col3': b\"'Tempesti'\", b'cf1:col4': b\"'M'\", b'cf2:col5': b\"'1991-10-22'\"}\n",
            "b'10029' {b'cf1:col1': b\"'1956-12-13'\", b'cf1:col2': b\"'Otmar'\", b'cf1:col3': b\"'Herbst'\", b'cf1:col4': b\"'M'\", b'cf2:col5': b\"'1985-11-20'\"}\n",
            "b'10030' {b'cf1:col1': b\"'1958-07-14'\", b'cf1:col2': b\"'Elvis'\", b'cf1:col3': b\"'Demeyer'\", b'cf1:col4': b\"'M'\", b'cf2:col5': b\"'1994-02-17'\"}\n",
            "b'10031' {b'cf1:col1': b\"'1959-01-27'\", b'cf1:col2': b\"'Karsten'\", b'cf1:col3': b\"'Joslin'\", b'cf1:col4': b\"'M'\", b'cf2:col5': b\"'1991-09-01'\"}\n",
            "b'10032' {b'cf1:col1': b\"'1960-08-09'\", b'cf1:col2': b\"'Jeong'\", b'cf1:col3': b\"'Reistad'\", b'cf1:col4': b\"'F'\", b'cf2:col5': b\"'1990-06-20'\"}\n",
            "b'10033' {b'cf1:col1': b\"'1956-11-14'\", b'cf1:col2': b\"'Arif'\", b'cf1:col3': b\"'Merlo'\", b'cf1:col4': b\"'M'\", b'cf2:col5': b\"'1987-03-18'\"}\n",
            "b'10034' {b'cf1:col1': b\"'1962-12-29'\", b'cf1:col2': b\"'Bader'\", b'cf1:col3': b\"'Swan'\", b'cf1:col4': b\"'M'\", b'cf2:col5': b\"'1988-09-21'\"}\n",
            "b'10035' {b'cf1:col1': b\"'1953-02-08'\", b'cf1:col2': b\"'Alain'\", b'cf1:col3': b\"'Chappelet'\", b'cf1:col4': b\"'M'\", b'cf2:col5': b\"'1988-09-05'\"}\n",
            "b'10036' {b'cf1:col1': b\"'1959-08-10'\", b'cf1:col2': b\"'Adamantios'\", b'cf1:col3': b\"'Portugali'\", b'cf1:col4': b\"'M'\", b'cf2:col5': b\"'1992-01-03'\"}\n",
            "b'10037' {b'cf1:col1': b\"'1963-07-22'\", b'cf1:col2': b\"'Pradeep'\", b'cf1:col3': b\"'Makrucki'\", b'cf1:col4': b\"'M'\", b'cf2:col5': b\"'1990-12-05'\"}\n",
            "b'10038' {b'cf1:col1': b\"'1960-07-20'\", b'cf1:col2': b\"'Huan'\", b'cf1:col3': b\"'Lortz'\", b'cf1:col4': b\"'M'\", b'cf2:col5': b\"'1989-09-20'\"}\n",
            "b'10039' {b'cf1:col1': b\"'1959-10-01'\", b'cf1:col2': b\"'Alejandro'\", b'cf1:col3': b\"'Brender'\", b'cf1:col4': b\"'M'\", b'cf2:col5': b\"'1988-01-19'\"}\n",
            "b'10040' {b'cf1:col1': b\"'1959-09-13'\", b'cf1:col2': b\"'Weiyi'\", b'cf1:col3': b\"'Meriste'\", b'cf1:col4': b\"'F'\", b'cf2:col5': b\"'1993-02-14'\"}\n",
            "b'10041' {b'cf1:col1': b\"'1959-08-27'\", b'cf1:col2': b\"'Uri'\", b'cf1:col3': b\"'Lenart'\", b'cf1:col4': b\"'F'\", b'cf2:col5': b\"'1989-11-12'\"}\n",
            "b'10042' {b'cf1:col1': b\"'1956-02-26'\", b'cf1:col2': b\"'Magy'\", b'cf1:col3': b\"'Stamatiou'\", b'cf1:col4': b\"'F'\", b'cf2:col5': b\"'1993-03-21'\"}\n",
            "b'10043' {b'cf1:col1': b\"'1960-09-19'\", b'cf1:col2': b\"'Yishay'\", b'cf1:col3': b\"'Tzvieli'\", b'cf1:col4': b\"'M'\", b'cf2:col5': b\"'1990-10-20'\"}\n",
            "b'10044' {b'cf1:col1': b\"'1961-09-21'\", b'cf1:col2': b\"'Mingsen'\", b'cf1:col3': b\"'Casley'\", b'cf1:col4': b\"'F'\", b'cf2:col5': b\"'1994-05-21'\"}\n",
            "b'10045' {b'cf1:col1': b\"'1957-08-14'\", b'cf1:col2': b\"'Moss'\", b'cf1:col3': b\"'Shanbhogue'\", b'cf1:col4': b\"'M'\", b'cf2:col5': b\"'1989-09-02'\"}\n",
            "b'10046' {b'cf1:col1': b\"'1960-07-23'\", b'cf1:col2': b\"'Lucien'\", b'cf1:col3': b\"'Rosenbaum'\", b'cf1:col4': b\"'M'\", b'cf2:col5': b\"'1992-06-20'\"}\n",
            "b'10047' {b'cf1:col1': b\"'1952-06-29'\", b'cf1:col2': b\"'Zvonko'\", b'cf1:col3': b\"'Nyanchama'\", b'cf1:col4': b\"'M'\", b'cf2:col5': b\"'1989-03-31'\"}\n",
            "b'10048' {b'cf1:col1': b\"'1963-07-11'\", b'cf1:col2': b\"'Florian'\", b'cf1:col3': b\"'Syrotiuk'\", b'cf1:col4': b\"'M'\", b'cf2:col5': b\"'1985-02-24'\"}\n",
            "b'10049' {b'cf1:col1': b\"'1961-04-24'\", b'cf1:col2': b\"'Basil'\", b'cf1:col3': b\"'Tramer'\", b'cf1:col4': b\"'F'\", b'cf2:col5': b\"'1992-05-04'\"}\n",
            "b'10050' {b'cf1:col1': b\"'1958-05-21'\", b'cf1:col2': b\"'Yinghua'\", b'cf1:col3': b\"'Dredge'\", b'cf1:col4': b\"'M'\", b'cf2:col5': b\"'1990-12-25'\"}\n",
            "b'10051' {b'cf1:col1': b\"'1953-07-28'\", b'cf1:col2': b\"'Hidefumi'\", b'cf1:col3': b\"'Caine'\", b'cf1:col4': b\"'M'\", b'cf2:col5': b\"'1992-10-15'\"}\n",
            "b'10052' {b'cf1:col1': b\"'1961-02-26'\", b'cf1:col2': b\"'Heping'\", b'cf1:col3': b\"'Nitsch'\", b'cf1:col4': b\"'M'\", b'cf2:col5': b\"'1988-05-21'\"}\n",
            "b'10053' {b'cf1:col1': b\"'1954-09-13'\", b'cf1:col2': b\"'Sanjiv'\", b'cf1:col3': b\"'Zschoche'\", b'cf1:col4': b\"'F'\", b'cf2:col5': b\"'1986-02-04'\"}\n",
            "b'10054' {b'cf1:col1': b\"'1957-04-04'\", b'cf1:col2': b\"'Mayumi'\", b'cf1:col3': b\"'Schueller'\", b'cf1:col4': b\"'M'\", b'cf2:col5': b\"'1995-03-13'\"}\n",
            "b'10055' {b'cf1:col1': b\"'1956-06-06'\", b'cf1:col2': b\"'Georgy'\", b'cf1:col3': b\"'Dredge'\", b'cf1:col4': b\"'M'\", b'cf2:col5': b\"'1992-04-27'\"}\n",
            "b'10056' {b'cf1:col1': b\"'1961-09-01'\", b'cf1:col2': b\"'Brendon'\", b'cf1:col3': b\"'Bernini'\", b'cf1:col4': b\"'F'\", b'cf2:col5': b\"'1990-02-01'\"}\n",
            "b'10057' {b'cf1:col1': b\"'1954-05-30'\", b'cf1:col2': b\"'Ebbe'\", b'cf1:col3': b\"'Callaway'\", b'cf1:col4': b\"'F'\", b'cf2:col5': b\"'1992-01-15'\"}\n",
            "b'10058' {b'cf1:col1': b\"'1954-10-01'\", b'cf1:col2': b\"'Berhard'\", b'cf1:col3': b\"'McFarlin'\", b'cf1:col4': b\"'M'\", b'cf2:col5': b\"'1987-04-13'\"}\n",
            "b'10059' {b'cf1:col1': b\"'1953-09-19'\", b'cf1:col2': b\"'Alejandro'\", b'cf1:col3': b\"'McAlpine'\", b'cf1:col4': b\"'F'\", b'cf2:col5': b\"'1991-06-26'\"}\n",
            "b'10060' {b'cf1:col1': b\"'1961-10-15'\", b'cf1:col2': b\"'Breannda'\", b'cf1:col3': b\"'Billingsley'\", b'cf1:col4': b\"'M'\", b'cf2:col5': b\"'1987-11-02'\"}\n",
            "b'10061' {b'cf1:col1': b\"'1962-10-19'\", b'cf1:col2': b\"'Tse'\", b'cf1:col3': b\"'Herber'\", b'cf1:col4': b\"'M'\", b'cf2:col5': b\"'1985-09-17'\"}\n",
            "b'10062' {b'cf1:col1': b\"'1961-11-02'\", b'cf1:col2': b\"'Anoosh'\", b'cf1:col3': b\"'Peyn'\", b'cf1:col4': b\"'M'\", b'cf2:col5': b\"'1991-08-30'\"}\n",
            "b'10063' {b'cf1:col1': b\"'1952-08-06'\", b'cf1:col2': b\"'Gino'\", b'cf1:col3': b\"'Leonhardt'\", b'cf1:col4': b\"'F'\", b'cf2:col5': b\"'1989-04-08'\"}\n",
            "b'10064' {b'cf1:col1': b\"'1959-04-07'\", b'cf1:col2': b\"'Udi'\", b'cf1:col3': b\"'Jansch'\", b'cf1:col4': b\"'M'\", b'cf2:col5': b\"'1985-11-20'\"}\n",
            "b'10065' {b'cf1:col1': b\"'1963-04-14'\", b'cf1:col2': b\"'Satosi'\", b'cf1:col3': b\"'Awdeh'\", b'cf1:col4': b\"'M'\", b'cf2:col5': b\"'1988-05-18'\"}\n",
            "b'10066' {b'cf1:col1': b\"'1952-11-13'\", b'cf1:col2': b\"'Kwee'\", b'cf1:col3': b\"'Schusler'\", b'cf1:col4': b\"'M'\", b'cf2:col5': b\"'1986-02-26'\"}\n",
            "b'10067' {b'cf1:col1': b\"'1953-01-07'\", b'cf1:col2': b\"'Claudi'\", b'cf1:col3': b\"'Stavenow'\", b'cf1:col4': b\"'M'\", b'cf2:col5': b\"'1987-03-04'\"}\n",
            "b'10068' {b'cf1:col1': b\"'1962-11-26'\", b'cf1:col2': b\"'Charlene'\", b'cf1:col3': b\"'Brattka'\", b'cf1:col4': b\"'M'\", b'cf2:col5': b\"'1987-08-07'\"}\n",
            "b'10069' {b'cf1:col1': b\"'1960-09-06'\", b'cf1:col2': b\"'Margareta'\", b'cf1:col3': b\"'Bierman'\", b'cf1:col4': b\"'F'\", b'cf2:col5': b\"'1989-11-05'\"}\n",
            "b'10070' {b'cf1:col1': b\"'1955-08-20'\", b'cf1:col2': b\"'Reuven'\", b'cf1:col3': b\"'Garigliano'\", b'cf1:col4': b\"'M'\", b'cf2:col5': b\"'1985-10-14'\"}\n",
            "b'10071' {b'cf1:col1': b\"'1958-01-21'\", b'cf1:col2': b\"'Hisao'\", b'cf1:col3': b\"'Lipner'\", b'cf1:col4': b\"'M'\", b'cf2:col5': b\"'1987-10-01'\"}\n",
            "b'10072' {b'cf1:col1': b\"'1952-05-15'\", b'cf1:col2': b\"'Hironoby'\", b'cf1:col3': b\"'Sidou'\", b'cf1:col4': b\"'F'\", b'cf2:col5': b\"'1988-07-21'\"}\n",
            "b'10073' {b'cf1:col1': b\"'1954-02-23'\", b'cf1:col2': b\"'Shir'\", b'cf1:col3': b\"'McClurg'\", b'cf1:col4': b\"'M'\", b'cf2:col5': b\"'1991-12-01'\"}\n",
            "b'10074' {b'cf1:col1': b\"'1955-08-28'\", b'cf1:col2': b\"'Mokhtar'\", b'cf1:col3': b\"'Bernatsky'\", b'cf1:col4': b\"'F'\", b'cf2:col5': b\"'1990-08-13'\"}\n",
            "b'10075' {b'cf1:col1': b\"'1960-03-09'\", b'cf1:col2': b\"'Gao'\", b'cf1:col3': b\"'Dolinsky'\", b'cf1:col4': b\"'F'\", b'cf2:col5': b\"'1987-03-19'\"}\n",
            "b'10076' {b'cf1:col1': b\"'1952-06-13'\", b'cf1:col2': b\"'Erez'\", b'cf1:col3': b\"'Ritzmann'\", b'cf1:col4': b\"'F'\", b'cf2:col5': b\"'1985-07-09'\"}\n",
            "b'10077' {b'cf1:col1': b\"'1964-04-18'\", b'cf1:col2': b\"'Mona'\", b'cf1:col3': b\"'Azuma'\", b'cf1:col4': b\"'M'\", b'cf2:col5': b\"'1990-03-02'\"}\n",
            "b'10078' {b'cf1:col1': b\"'1959-12-25'\", b'cf1:col2': b\"'Danel'\", b'cf1:col3': b\"'Mondadori'\", b'cf1:col4': b\"'F'\", b'cf2:col5': b\"'1987-05-26'\"}\n",
            "b'10079' {b'cf1:col1': b\"'1961-10-05'\", b'cf1:col2': b\"'Kshitij'\", b'cf1:col3': b\"'Gils'\", b'cf1:col4': b\"'F'\", b'cf2:col5': b\"'1986-03-27'\"}\n",
            "b'10080' {b'cf1:col1': b\"'1957-12-03'\", b'cf1:col2': b\"'Premal'\", b'cf1:col3': b\"'Baek'\", b'cf1:col4': b\"'M'\", b'cf2:col5': b\"'1985-11-19'\"}\n",
            "b'10081' {b'cf1:col1': b\"'1960-12-17'\", b'cf1:col2': b\"'Zhongwei'\", b'cf1:col3': b\"'Rosen'\", b'cf1:col4': b\"'M'\", b'cf2:col5': b\"'1986-10-30'\"}\n",
            "b'10082' {b'cf1:col1': b\"'1963-09-09'\", b'cf1:col2': b\"'Parviz'\", b'cf1:col3': b\"'Lortz'\", b'cf1:col4': b\"'M'\", b'cf2:col5': b\"'1990-01-03'\"}\n",
            "b'10083' {b'cf1:col1': b\"'1959-07-23'\", b'cf1:col2': b\"'Vishv'\", b'cf1:col3': b\"'Zockler'\", b'cf1:col4': b\"'M'\", b'cf2:col5': b\"'1987-03-31'\"}\n",
            "b'10084' {b'cf1:col1': b\"'1960-05-25'\", b'cf1:col2': b\"'Tuval'\", b'cf1:col3': b\"'Kalloufi'\", b'cf1:col4': b\"'M'\", b'cf2:col5': b\"'1995-12-15'\"}\n",
            "b'10085' {b'cf1:col1': b\"'1962-11-07'\", b'cf1:col2': b\"'Kenroku'\", b'cf1:col3': b\"'Malabarba'\", b'cf1:col4': b\"'M'\", b'cf2:col5': b\"'1994-04-09'\"}\n",
            "b'10086' {b'cf1:col1': b\"'1962-11-19'\", b'cf1:col2': b\"'Somnath'\", b'cf1:col3': b\"'Foote'\", b'cf1:col4': b\"'M'\", b'cf2:col5': b\"'1990-02-16'\"}\n",
            "b'10087' {b'cf1:col1': b\"'1959-07-23'\", b'cf1:col2': b\"'Xinglin'\", b'cf1:col3': b\"'Eugenio'\", b'cf1:col4': b\"'F'\", b'cf2:col5': b\"'1986-09-08'\"}\n",
            "b'10088' {b'cf1:col1': b\"'1954-02-25'\", b'cf1:col2': b\"'Jungsoon'\", b'cf1:col3': b\"'Syrzycki'\", b'cf1:col4': b\"'F'\", b'cf2:col5': b\"'1988-09-02'\"}\n",
            "b'10089' {b'cf1:col1': b\"'1963-03-21'\", b'cf1:col2': b\"'Sudharsan'\", b'cf1:col3': b\"'Flasterstein'\", b'cf1:col4': b\"'F'\", b'cf2:col5': b\"'1986-08-12'\"}\n",
            "b'10090' {b'cf1:col1': b\"'1961-05-30'\", b'cf1:col2': b\"'Kendra'\", b'cf1:col3': b\"'Hofting'\", b'cf1:col4': b\"'M'\", b'cf2:col5': b\"'1986-03-14'\"}\n",
            "b'10091' {b'cf1:col1': b\"'1955-10-04'\", b'cf1:col2': b\"'Amabile'\", b'cf1:col3': b\"'Gomatam'\", b'cf1:col4': b\"'M'\", b'cf2:col5': b\"'1992-11-18'\"}\n",
            "b'10092' {b'cf1:col1': b\"'1964-10-18'\", b'cf1:col2': b\"'Valdiodio'\", b'cf1:col3': b\"'Niizuma'\", b'cf1:col4': b\"'F'\", b'cf2:col5': b\"'1989-09-22'\"}\n",
            "b'10093' {b'cf1:col1': b\"'1964-06-11'\", b'cf1:col2': b\"'Sailaja'\", b'cf1:col3': b\"'Desikan'\", b'cf1:col4': b\"'M'\", b'cf2:col5': b\"'1996-11-05'\"}\n",
            "b'10094' {b'cf1:col1': b\"'1957-05-25'\", b'cf1:col2': b\"'Arumugam'\", b'cf1:col3': b\"'Ossenbruggen'\", b'cf1:col4': b\"'F'\", b'cf2:col5': b\"'1987-04-18'\"}\n",
            "b'10095' {b'cf1:col1': b\"'1965-01-03'\", b'cf1:col2': b\"'Hilari'\", b'cf1:col3': b\"'Morton'\", b'cf1:col4': b\"'M'\", b'cf2:col5': b\"'1986-07-15'\"}\n",
            "b'10096' {b'cf1:col1': b\"'1954-09-16'\", b'cf1:col2': b\"'Jayson'\", b'cf1:col3': b\"'Mandell'\", b'cf1:col4': b\"'M'\", b'cf2:col5': b\"'1990-01-14'\"}\n",
            "b'10097' {b'cf1:col1': b\"'1952-02-27'\", b'cf1:col2': b\"'Remzi'\", b'cf1:col3': b\"'Waschkowski'\", b'cf1:col4': b\"'M'\", b'cf2:col5': b\"'1990-09-15'\"}\n",
            "b'10098' {b'cf1:col1': b\"'1961-09-23'\", b'cf1:col2': b\"'Sreekrishna'\", b'cf1:col3': b\"'Servieres'\", b'cf1:col4': b\"'F'\", b'cf2:col5': b\"'1985-05-13'\"}\n",
            "b'10099' {b'cf1:col1': b\"'1956-05-25'\", b'cf1:col2': b\"'Valter'\", b'cf1:col3': b\"'Sullins'\", b'cf1:col4': b\"'F'\", b'cf2:col5': b\"'1988-10-18'\"}\n",
            "b'10100' {b'cf1:col1': b\"'1953-04-21'\", b'cf1:col2': b\"'Hironobu'\", b'cf1:col3': b\"'Haraldson'\", b'cf1:col4': b\"'F'\", b'cf2:col5': b\"'1987-09-21'\"}\n",
            "b'10101' {b'cf1:col1': b\"'1952-04-15'\", b'cf1:col2': b\"'Perla'\", b'cf1:col3': b\"'Heyers'\", b'cf1:col4': b\"'F'\", b'cf2:col5': b\"'1992-12-28'\"}\n",
            "b'row 6' {b'cf1:col7': b'17.33', b'cf1:col8': b'344'}\n",
            "b'row 7' {b'cf1:col7': b'17.33', b'cf1:col8': b'612'}\n"
          ],
          "name": "stdout"
        }
      ]
    },
    {
      "cell_type": "markdown",
      "metadata": {
        "id": "FAN0CYfKRk5r"
      },
      "source": [
        "# Ex 1\n",
        "Employee data in HBASE.\n",
        "* create a new table to hold the employee data -> use a distinct name, like ``user_id_employees``\n",
        "* How would you create the column families?\n",
        "* read data from ``employees.csv`` and put it into the table ->  use  ``import csv`` to read the data -> [API docs](https://docs.python.org/3/library/csv.html)\n",
        "* use batch-processing to enter more than one entry per transaction\n",
        "* alter some entries of the table with ``timestamps``\n",
        "* perform some sample scans for the latest entries"
      ]
    },
    {
      "cell_type": "code",
      "metadata": {
        "id": "8foeawJkRk5r",
        "outputId": "f99f8d93-ef1b-4866-e13d-43d3bc93224d",
        "colab": {
          "base_uri": "https://localhost:8080/",
          "height": 398
        }
      },
      "source": [
        "connection.create_table(\n",
        "    'user_id_employees',\n",
        "    {'cf1': dict(max_versions=10),\n",
        "     'cf2': dict(max_versions=1, block_cache_enabled=False),\n",
        "     'cf3': dict(),  # use defaults\n",
        "    }\n",
        ")"
      ],
      "execution_count": 13,
      "outputs": [
        {
          "output_type": "error",
          "ename": "AlreadyExists",
          "evalue": "ignored",
          "traceback": [
            "\u001b[0;31m---------------------------------------------------------------------------\u001b[0m",
            "\u001b[0;31mAlreadyExists\u001b[0m                             Traceback (most recent call last)",
            "\u001b[0;32m<ipython-input-13-1e159a3064bd>\u001b[0m in \u001b[0;36m<module>\u001b[0;34m()\u001b[0m\n\u001b[1;32m      3\u001b[0m     {'cf1': dict(max_versions=10),\n\u001b[1;32m      4\u001b[0m      \u001b[0;34m'cf2'\u001b[0m\u001b[0;34m:\u001b[0m \u001b[0mdict\u001b[0m\u001b[0;34m(\u001b[0m\u001b[0mmax_versions\u001b[0m\u001b[0;34m=\u001b[0m\u001b[0;36m1\u001b[0m\u001b[0;34m,\u001b[0m \u001b[0mblock_cache_enabled\u001b[0m\u001b[0;34m=\u001b[0m\u001b[0;32mFalse\u001b[0m\u001b[0;34m)\u001b[0m\u001b[0;34m,\u001b[0m\u001b[0;34m\u001b[0m\u001b[0;34m\u001b[0m\u001b[0m\n\u001b[0;32m----> 5\u001b[0;31m      \u001b[0;34m'cf3'\u001b[0m\u001b[0;34m:\u001b[0m \u001b[0mdict\u001b[0m\u001b[0;34m(\u001b[0m\u001b[0;34m)\u001b[0m\u001b[0;34m,\u001b[0m  \u001b[0;31m# use defaults\u001b[0m\u001b[0;34m\u001b[0m\u001b[0;34m\u001b[0m\u001b[0m\n\u001b[0m\u001b[1;32m      6\u001b[0m     }\n\u001b[1;32m      7\u001b[0m )\n",
            "\u001b[0;32m/usr/local/lib/python3.7/site-packages/happybase/connection.py\u001b[0m in \u001b[0;36mcreate_table\u001b[0;34m(self, name, families)\u001b[0m\n\u001b[1;32m    307\u001b[0m             \u001b[0mcolumn_descriptors\u001b[0m\u001b[0;34m.\u001b[0m\u001b[0mappend\u001b[0m\u001b[0;34m(\u001b[0m\u001b[0mColumnDescriptor\u001b[0m\u001b[0;34m(\u001b[0m\u001b[0;34m**\u001b[0m\u001b[0mkwargs\u001b[0m\u001b[0;34m)\u001b[0m\u001b[0;34m)\u001b[0m\u001b[0;34m\u001b[0m\u001b[0;34m\u001b[0m\u001b[0m\n\u001b[1;32m    308\u001b[0m \u001b[0;34m\u001b[0m\u001b[0m\n\u001b[0;32m--> 309\u001b[0;31m         \u001b[0mself\u001b[0m\u001b[0;34m.\u001b[0m\u001b[0mclient\u001b[0m\u001b[0;34m.\u001b[0m\u001b[0mcreateTable\u001b[0m\u001b[0;34m(\u001b[0m\u001b[0mname\u001b[0m\u001b[0;34m,\u001b[0m \u001b[0mcolumn_descriptors\u001b[0m\u001b[0;34m)\u001b[0m\u001b[0;34m\u001b[0m\u001b[0;34m\u001b[0m\u001b[0m\n\u001b[0m\u001b[1;32m    310\u001b[0m \u001b[0;34m\u001b[0m\u001b[0m\n\u001b[1;32m    311\u001b[0m     \u001b[0;32mdef\u001b[0m \u001b[0mdelete_table\u001b[0m\u001b[0;34m(\u001b[0m\u001b[0mself\u001b[0m\u001b[0;34m,\u001b[0m \u001b[0mname\u001b[0m\u001b[0;34m,\u001b[0m \u001b[0mdisable\u001b[0m\u001b[0;34m=\u001b[0m\u001b[0;32mFalse\u001b[0m\u001b[0;34m)\u001b[0m\u001b[0;34m:\u001b[0m\u001b[0;34m\u001b[0m\u001b[0;34m\u001b[0m\u001b[0m\n",
            "\u001b[0;32m/usr/local/lib/python3.7/site-packages/thriftpy2/thrift.py\u001b[0m in \u001b[0;36m_req\u001b[0;34m(self, _api, *args, **kwargs)\u001b[0m\n\u001b[1;32m    217\u001b[0m         \u001b[0;31m# wait result only if non-oneway\u001b[0m\u001b[0;34m\u001b[0m\u001b[0;34m\u001b[0m\u001b[0;34m\u001b[0m\u001b[0m\n\u001b[1;32m    218\u001b[0m         \u001b[0;32mif\u001b[0m \u001b[0;32mnot\u001b[0m \u001b[0mgetattr\u001b[0m\u001b[0;34m(\u001b[0m\u001b[0mresult_cls\u001b[0m\u001b[0;34m,\u001b[0m \u001b[0;34m\"oneway\"\u001b[0m\u001b[0;34m)\u001b[0m\u001b[0;34m:\u001b[0m\u001b[0;34m\u001b[0m\u001b[0;34m\u001b[0m\u001b[0m\n\u001b[0;32m--> 219\u001b[0;31m             \u001b[0;32mreturn\u001b[0m \u001b[0mself\u001b[0m\u001b[0;34m.\u001b[0m\u001b[0m_recv\u001b[0m\u001b[0;34m(\u001b[0m\u001b[0m_api\u001b[0m\u001b[0;34m)\u001b[0m\u001b[0;34m\u001b[0m\u001b[0;34m\u001b[0m\u001b[0m\n\u001b[0m\u001b[1;32m    220\u001b[0m \u001b[0;34m\u001b[0m\u001b[0m\n\u001b[1;32m    221\u001b[0m     \u001b[0;32mdef\u001b[0m \u001b[0m_send\u001b[0m\u001b[0;34m(\u001b[0m\u001b[0mself\u001b[0m\u001b[0;34m,\u001b[0m \u001b[0m_api\u001b[0m\u001b[0;34m,\u001b[0m \u001b[0;34m**\u001b[0m\u001b[0mkwargs\u001b[0m\u001b[0;34m)\u001b[0m\u001b[0;34m:\u001b[0m\u001b[0;34m\u001b[0m\u001b[0;34m\u001b[0m\u001b[0m\n",
            "\u001b[0;32m/usr/local/lib/python3.7/site-packages/thriftpy2/thrift.py\u001b[0m in \u001b[0;36m_recv\u001b[0;34m(self, _api)\u001b[0m\n\u001b[1;32m    249\u001b[0m         \u001b[0;32mfor\u001b[0m \u001b[0mk\u001b[0m\u001b[0;34m,\u001b[0m \u001b[0mv\u001b[0m \u001b[0;32min\u001b[0m \u001b[0mresult\u001b[0m\u001b[0;34m.\u001b[0m\u001b[0m__dict__\u001b[0m\u001b[0;34m.\u001b[0m\u001b[0mitems\u001b[0m\u001b[0;34m(\u001b[0m\u001b[0;34m)\u001b[0m\u001b[0;34m:\u001b[0m\u001b[0;34m\u001b[0m\u001b[0;34m\u001b[0m\u001b[0m\n\u001b[1;32m    250\u001b[0m             \u001b[0;32mif\u001b[0m \u001b[0mk\u001b[0m \u001b[0;34m!=\u001b[0m \u001b[0;34m\"success\"\u001b[0m \u001b[0;32mand\u001b[0m \u001b[0mv\u001b[0m\u001b[0;34m:\u001b[0m\u001b[0;34m\u001b[0m\u001b[0;34m\u001b[0m\u001b[0m\n\u001b[0;32m--> 251\u001b[0;31m                 \u001b[0;32mraise\u001b[0m \u001b[0mv\u001b[0m\u001b[0;34m\u001b[0m\u001b[0;34m\u001b[0m\u001b[0m\n\u001b[0m\u001b[1;32m    252\u001b[0m \u001b[0;34m\u001b[0m\u001b[0m\n\u001b[1;32m    253\u001b[0m         \u001b[0;31m# no throws & not void api\u001b[0m\u001b[0;34m\u001b[0m\u001b[0;34m\u001b[0m\u001b[0;34m\u001b[0m\u001b[0m\n",
            "\u001b[0;31mAlreadyExists\u001b[0m: AlreadyExists(message=b'table name already in use')"
          ]
        }
      ]
    },
    {
      "cell_type": "code",
      "metadata": {
        "id": "P5XEiH93TTTU"
      },
      "source": [
        "table = connection.table('user_id_employees')"
      ],
      "execution_count": 14,
      "outputs": []
    },
    {
      "cell_type": "code",
      "metadata": {
        "id": "6G9bPUedT0he",
        "outputId": "47d4b2a4-16d4-45f4-b683-f8fa54b748b0",
        "colab": {
          "base_uri": "https://localhost:8080/"
        }
      },
      "source": [
        "print(connection.tables())"
      ],
      "execution_count": 15,
      "outputs": [
        {
          "output_type": "stream",
          "text": [
            "[b'1234_user_id_employees', b'49a5b1a_employees', b'dh_user_id_employees', b'employee_Group2', b'employee_Group_2', b'employee_group_five', b'employees_smunaret', b'group1_employee', b'group3_user_id_employees', b'lab3', b'mspitzna_employees', b'tm_user_id_employees', b'user_id_employees']\n"
          ],
          "name": "stdout"
        }
      ]
    },
    {
      "cell_type": "code",
      "metadata": {
        "id": "vJVrSHsiUaR2"
      },
      "source": [
        "import csv\n",
        "csvfile = open('/content/employees.csv', \"r\")\n",
        "csvreader = csv.reader(csvfile)"
      ],
      "execution_count": 16,
      "outputs": []
    },
    {
      "cell_type": "code",
      "metadata": {
        "id": "4ghXhUP-Xh9i"
      },
      "source": [
        "batch = table.batch(batch_size = 100)"
      ],
      "execution_count": 17,
      "outputs": []
    },
    {
      "cell_type": "code",
      "metadata": {
        "id": "ZMymbPfzUqWC"
      },
      "source": [
        "def insert_row(batch, row):\n",
        "    \"\"\" Insert a row into HBase.\n",
        "    Write the row to the batch. When the batch size is reached, rows will be\n",
        "    sent to the database.\n",
        "    Rows have the following schema:\n",
        "        [ id, keyword, subcategory, type, township, city, zip, council_district,\n",
        "          opened, closed, status, origin, location ]\n",
        "    \"\"\"\n",
        "    batch.put(row[0], { \"data:id\": row[1], \"data:birth\": row[2], \"data:name\": row[3],\n",
        "        \"data:vorname\": row[4], \"data:gender\": row[5]})"
      ],
      "execution_count": 18,
      "outputs": []
    },
    {
      "cell_type": "code",
      "metadata": {
        "id": "jC6Nw_k4WQyA",
        "outputId": "f1421d3a-1968-44c4-df23-8a8f2d67f13e",
        "colab": {
          "base_uri": "https://localhost:8080/",
          "height": 545
        }
      },
      "source": [
        "row_count = 0\n",
        "\n",
        "try:\n",
        "    # Loop through the rows. The first row contains column headers, so skip that\n",
        "    # row. Insert all remaining rows into the database.\n",
        "    for row in csvreader:\n",
        "        row_count += 1\n",
        "        if row_count == 1:\n",
        "            pass\n",
        "        else:\n",
        "            insert_row(batch, row)\n",
        "\n",
        "    # If there are any leftover rows in the batch, send them now.\n",
        "    batch.send()\n",
        "finally:\n",
        "    # No matter what happens, close the file handle.\n",
        "    csvfile.close()\n"
      ],
      "execution_count": 21,
      "outputs": [
        {
          "output_type": "error",
          "ename": "IOError",
          "evalue": "ignored",
          "traceback": [
            "\u001b[0;31m---------------------------------------------------------------------------\u001b[0m",
            "\u001b[0;31mIOError\u001b[0m                                   Traceback (most recent call last)",
            "\u001b[0;32m<ipython-input-21-68259f91ee0b>\u001b[0m in \u001b[0;36m<module>\u001b[0;34m()\u001b[0m\n\u001b[1;32m      9\u001b[0m             \u001b[0;32mpass\u001b[0m\u001b[0;34m\u001b[0m\u001b[0;34m\u001b[0m\u001b[0m\n\u001b[1;32m     10\u001b[0m         \u001b[0;32melse\u001b[0m\u001b[0;34m:\u001b[0m\u001b[0;34m\u001b[0m\u001b[0;34m\u001b[0m\u001b[0m\n\u001b[0;32m---> 11\u001b[0;31m             \u001b[0minsert_row\u001b[0m\u001b[0;34m(\u001b[0m\u001b[0mbatch\u001b[0m\u001b[0;34m,\u001b[0m \u001b[0mrow\u001b[0m\u001b[0;34m)\u001b[0m\u001b[0;34m\u001b[0m\u001b[0;34m\u001b[0m\u001b[0m\n\u001b[0m\u001b[1;32m     12\u001b[0m \u001b[0;34m\u001b[0m\u001b[0m\n\u001b[1;32m     13\u001b[0m     \u001b[0;31m# If there are any leftover rows in the batch, send them now.\u001b[0m\u001b[0;34m\u001b[0m\u001b[0;34m\u001b[0m\u001b[0;34m\u001b[0m\u001b[0m\n",
            "\u001b[0;32m<ipython-input-18-b3f300828c87>\u001b[0m in \u001b[0;36minsert_row\u001b[0;34m(batch, row)\u001b[0m\n\u001b[1;32m      8\u001b[0m     \"\"\"\n\u001b[1;32m      9\u001b[0m     batch.put(row[0], { \"data:id\": row[1], \"data:birth\": row[2], \"data:name\": row[3],\n\u001b[0;32m---> 10\u001b[0;31m         \"data:vorname\": row[4], \"data:gender\": row[5]})\n\u001b[0m",
            "\u001b[0;32m/usr/local/lib/python3.7/site-packages/happybase/batch.py\u001b[0m in \u001b[0;36mput\u001b[0;34m(self, row, data, wal)\u001b[0m\n\u001b[1;32m     90\u001b[0m         \u001b[0mself\u001b[0m\u001b[0;34m.\u001b[0m\u001b[0m_mutation_count\u001b[0m \u001b[0;34m+=\u001b[0m \u001b[0mlen\u001b[0m\u001b[0;34m(\u001b[0m\u001b[0mdata\u001b[0m\u001b[0;34m)\u001b[0m\u001b[0;34m\u001b[0m\u001b[0;34m\u001b[0m\u001b[0m\n\u001b[1;32m     91\u001b[0m         \u001b[0;32mif\u001b[0m \u001b[0mself\u001b[0m\u001b[0;34m.\u001b[0m\u001b[0m_batch_size\u001b[0m \u001b[0;32mand\u001b[0m \u001b[0mself\u001b[0m\u001b[0;34m.\u001b[0m\u001b[0m_mutation_count\u001b[0m \u001b[0;34m>=\u001b[0m \u001b[0mself\u001b[0m\u001b[0;34m.\u001b[0m\u001b[0m_batch_size\u001b[0m\u001b[0;34m:\u001b[0m\u001b[0;34m\u001b[0m\u001b[0;34m\u001b[0m\u001b[0m\n\u001b[0;32m---> 92\u001b[0;31m             \u001b[0mself\u001b[0m\u001b[0;34m.\u001b[0m\u001b[0msend\u001b[0m\u001b[0;34m(\u001b[0m\u001b[0;34m)\u001b[0m\u001b[0;34m\u001b[0m\u001b[0;34m\u001b[0m\u001b[0m\n\u001b[0m\u001b[1;32m     93\u001b[0m \u001b[0;34m\u001b[0m\u001b[0m\n\u001b[1;32m     94\u001b[0m     \u001b[0;32mdef\u001b[0m \u001b[0mdelete\u001b[0m\u001b[0;34m(\u001b[0m\u001b[0mself\u001b[0m\u001b[0;34m,\u001b[0m \u001b[0mrow\u001b[0m\u001b[0;34m,\u001b[0m \u001b[0mcolumns\u001b[0m\u001b[0;34m=\u001b[0m\u001b[0;32mNone\u001b[0m\u001b[0;34m,\u001b[0m \u001b[0mwal\u001b[0m\u001b[0;34m=\u001b[0m\u001b[0;32mNone\u001b[0m\u001b[0;34m)\u001b[0m\u001b[0;34m:\u001b[0m\u001b[0;34m\u001b[0m\u001b[0;34m\u001b[0m\u001b[0m\n",
            "\u001b[0;32m/usr/local/lib/python3.7/site-packages/happybase/batch.py\u001b[0m in \u001b[0;36msend\u001b[0;34m(self)\u001b[0m\n\u001b[1;32m     58\u001b[0m                      self._table.name, self._mutation_count, len(bms))\n\u001b[1;32m     59\u001b[0m         \u001b[0;32mif\u001b[0m \u001b[0mself\u001b[0m\u001b[0;34m.\u001b[0m\u001b[0m_timestamp\u001b[0m \u001b[0;32mis\u001b[0m \u001b[0;32mNone\u001b[0m\u001b[0;34m:\u001b[0m\u001b[0;34m\u001b[0m\u001b[0;34m\u001b[0m\u001b[0m\n\u001b[0;32m---> 60\u001b[0;31m             \u001b[0mself\u001b[0m\u001b[0;34m.\u001b[0m\u001b[0m_table\u001b[0m\u001b[0;34m.\u001b[0m\u001b[0mconnection\u001b[0m\u001b[0;34m.\u001b[0m\u001b[0mclient\u001b[0m\u001b[0;34m.\u001b[0m\u001b[0mmutateRows\u001b[0m\u001b[0;34m(\u001b[0m\u001b[0mself\u001b[0m\u001b[0;34m.\u001b[0m\u001b[0m_table\u001b[0m\u001b[0;34m.\u001b[0m\u001b[0mname\u001b[0m\u001b[0;34m,\u001b[0m \u001b[0mbms\u001b[0m\u001b[0;34m,\u001b[0m \u001b[0;34m{\u001b[0m\u001b[0;34m}\u001b[0m\u001b[0;34m)\u001b[0m\u001b[0;34m\u001b[0m\u001b[0;34m\u001b[0m\u001b[0m\n\u001b[0m\u001b[1;32m     61\u001b[0m         \u001b[0;32melse\u001b[0m\u001b[0;34m:\u001b[0m\u001b[0;34m\u001b[0m\u001b[0;34m\u001b[0m\u001b[0m\n\u001b[1;32m     62\u001b[0m             self._table.connection.client.mutateRowsTs(\n",
            "\u001b[0;32m/usr/local/lib/python3.7/site-packages/thriftpy2/thrift.py\u001b[0m in \u001b[0;36m_req\u001b[0;34m(self, _api, *args, **kwargs)\u001b[0m\n\u001b[1;32m    217\u001b[0m         \u001b[0;31m# wait result only if non-oneway\u001b[0m\u001b[0;34m\u001b[0m\u001b[0;34m\u001b[0m\u001b[0;34m\u001b[0m\u001b[0m\n\u001b[1;32m    218\u001b[0m         \u001b[0;32mif\u001b[0m \u001b[0;32mnot\u001b[0m \u001b[0mgetattr\u001b[0m\u001b[0;34m(\u001b[0m\u001b[0mresult_cls\u001b[0m\u001b[0;34m,\u001b[0m \u001b[0;34m\"oneway\"\u001b[0m\u001b[0;34m)\u001b[0m\u001b[0;34m:\u001b[0m\u001b[0;34m\u001b[0m\u001b[0;34m\u001b[0m\u001b[0m\n\u001b[0;32m--> 219\u001b[0;31m             \u001b[0;32mreturn\u001b[0m \u001b[0mself\u001b[0m\u001b[0;34m.\u001b[0m\u001b[0m_recv\u001b[0m\u001b[0;34m(\u001b[0m\u001b[0m_api\u001b[0m\u001b[0;34m)\u001b[0m\u001b[0;34m\u001b[0m\u001b[0;34m\u001b[0m\u001b[0m\n\u001b[0m\u001b[1;32m    220\u001b[0m \u001b[0;34m\u001b[0m\u001b[0m\n\u001b[1;32m    221\u001b[0m     \u001b[0;32mdef\u001b[0m \u001b[0m_send\u001b[0m\u001b[0;34m(\u001b[0m\u001b[0mself\u001b[0m\u001b[0;34m,\u001b[0m \u001b[0m_api\u001b[0m\u001b[0;34m,\u001b[0m \u001b[0;34m**\u001b[0m\u001b[0mkwargs\u001b[0m\u001b[0;34m)\u001b[0m\u001b[0;34m:\u001b[0m\u001b[0;34m\u001b[0m\u001b[0;34m\u001b[0m\u001b[0m\n",
            "\u001b[0;32m/usr/local/lib/python3.7/site-packages/thriftpy2/thrift.py\u001b[0m in \u001b[0;36m_recv\u001b[0;34m(self, _api)\u001b[0m\n\u001b[1;32m    249\u001b[0m         \u001b[0;32mfor\u001b[0m \u001b[0mk\u001b[0m\u001b[0;34m,\u001b[0m \u001b[0mv\u001b[0m \u001b[0;32min\u001b[0m \u001b[0mresult\u001b[0m\u001b[0;34m.\u001b[0m\u001b[0m__dict__\u001b[0m\u001b[0;34m.\u001b[0m\u001b[0mitems\u001b[0m\u001b[0;34m(\u001b[0m\u001b[0;34m)\u001b[0m\u001b[0;34m:\u001b[0m\u001b[0;34m\u001b[0m\u001b[0;34m\u001b[0m\u001b[0m\n\u001b[1;32m    250\u001b[0m             \u001b[0;32mif\u001b[0m \u001b[0mk\u001b[0m \u001b[0;34m!=\u001b[0m \u001b[0;34m\"success\"\u001b[0m \u001b[0;32mand\u001b[0m \u001b[0mv\u001b[0m\u001b[0;34m:\u001b[0m\u001b[0;34m\u001b[0m\u001b[0;34m\u001b[0m\u001b[0m\n\u001b[0;32m--> 251\u001b[0;31m                 \u001b[0;32mraise\u001b[0m \u001b[0mv\u001b[0m\u001b[0;34m\u001b[0m\u001b[0;34m\u001b[0m\u001b[0m\n\u001b[0m\u001b[1;32m    252\u001b[0m \u001b[0;34m\u001b[0m\u001b[0m\n\u001b[1;32m    253\u001b[0m         \u001b[0;31m# no throws & not void api\u001b[0m\u001b[0;34m\u001b[0m\u001b[0;34m\u001b[0m\u001b[0;34m\u001b[0m\u001b[0m\n",
            "\u001b[0;31mIOError\u001b[0m: IOError(message=b\"org.apache.hadoop.hbase.client.RetriesExhaustedWithDetailsException: Failed 21 actions: org.apache.hadoop.hbase.regionserver.NoSuchColumnFamilyException: Column family data does not exist in region user_id_employees,,1623419068924.77392db4878a784624197f78005192ac. in table 'user_id_employees', {NAME => 'cf1', BLOOMFILTER => 'NONE', VERSIONS => '10', IN_MEMORY => 'false', KEEP_DELETED_CELLS => 'FALSE', DATA_BLOCK_ENCODING => 'NONE', TTL => 'FOREVER', COMPRESSION => 'NONE', MIN_VERSIONS => '0', BLOCKCACHE => 'false', BLOCKSIZE => '65536', REPLICATION_SCOPE => '0'}, {NAME => 'cf2', BLOOMFILTER => 'NONE', VERSIONS => '1', IN_MEMORY => 'false', KEEP_DELETED_CELLS => 'FALSE', DATA_BLOCK_ENCODING => 'NONE', TTL => 'FOREVER', COMPRESSION => 'NONE', MIN_VERSIONS => '0', BLOCKCACHE => 'false', BLOCKSIZE => '65536', REPLICATION_SCOPE => '0'}, {NAME => 'cf3', BLOOMFILTER => 'NONE', VERSIONS => '3', IN_MEMORY => 'false', KEEP_DELETED_CELLS => 'FALSE', DATA_BLOCK_ENCODING => 'NONE', TTL => 'FOREVER', COMPRESSION => 'NONE', MIN_VERSIONS => '0', BLOCKCACHE => 'false', BLOCKSIZE => '65536', REPLICATION_SCOPE => '0'}\\n\\tat org.apache.hadoop.hbase.regionserver.RSRpcServices.doBatchOp(RSRpcServices.java:929)\\n\\tat org.apache.hadoop.hbase.regionserver.RSRpcServices.doNonAtomicRegionMutation(RSRpcServices.java:848)\\n\\tat org.apache.hadoop.hbase.regionserver.RSRpcServices.multi(RSRpcServices.java:2416)\\n\\tat org.apache.hadoop.hbase.protobuf.generated.ClientP..."
          ]
        }
      ]
    },
    {
      "cell_type": "code",
      "metadata": {
        "id": "k2i3wKNuXvEg"
      },
      "source": [
        ""
      ],
      "execution_count": null,
      "outputs": []
    }
  ]
}